{
 "cells": [
  {
   "cell_type": "code",
   "execution_count": 1,
   "id": "15182fcd",
   "metadata": {},
   "outputs": [],
   "source": [
    "#Mini project\n",
    "\n",
    "#Converting Long URL into short URL (random url)\n",
    "\n",
    "import random\n",
    "import string\n",
    "\n",
    "d=dict()\n",
    "\n",
    "def mshortURL(mlongURL):\n",
    "    \n",
    "    length = random.randint(5,10);\n",
    "    \n",
    "    chars = string.ascii_letters\n",
    "    shortURL=''.join(random.choice(chars) for i in rnge(length))\n",
    "    \n",
    "    if shortURL in d:\n",
    "        return mshortURL(mlongURl);\n",
    "    else:\n",
    "        d[shortURl] = longURL;\n",
    "        \n",
    "    r = \"https://www.shortURl.com\"+shortURl\n",
    "    return r;\n",
    "\n",
    "def mlongURl(shortURl):\n",
    "    \n",
    "    x = shortURL[25:];\n",
    "    \n",
    "    if x in d:\n",
    "        return d[x];\n",
    "    else:\n",
    "        return None;"
   ]
  },
  {
   "cell_type": "code",
   "execution_count": null,
   "id": "46b459c6",
   "metadata": {},
   "outputs": [],
   "source": [
    "#VIMP PROJECT ON PALEGARISM \n",
    "\n",
    "#From this project we have to make streamlet page very imporatnt to resume"
   ]
  },
  {
   "cell_type": "code",
   "execution_count": null,
   "id": "d907c06d",
   "metadata": {},
   "outputs": [],
   "source": []
  }
 ],
 "metadata": {
  "kernelspec": {
   "display_name": "Python 3 (ipykernel)",
   "language": "python",
   "name": "python3"
  },
  "language_info": {
   "codemirror_mode": {
    "name": "ipython",
    "version": 3
   },
   "file_extension": ".py",
   "mimetype": "text/x-python",
   "name": "python",
   "nbconvert_exporter": "python",
   "pygments_lexer": "ipython3",
   "version": "3.9.7"
  }
 },
 "nbformat": 4,
 "nbformat_minor": 5
}
